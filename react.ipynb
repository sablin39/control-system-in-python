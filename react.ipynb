{
 "cells": [
  {
   "cell_type": "code",
   "execution_count": 3,
   "metadata": {},
   "outputs": [],
   "source": [
    "import control\n",
    "from control.matlab import *\n",
    "import sympy as sp\n",
    "import matplotlib.pyplot as plt\n",
    "import numpy as np\n",
    "def linestyle():\n",
    "    linestyle_ls=['-','--','-.',':']\n",
    "    line_id=0\n",
    "    while 1:\n",
    "        yield linestyle_ls[line_id]\n",
    "        line_id=(line_id+1)%len(linestyle_ls)\n",
    "\n",
    "def plot_set(fig_ax,*args):\n",
    "    fig_ax.set_xlabel(args[0])\n",
    "    fig_ax.set_ylabel(args[1])\n",
    "    fig_ax.grid(ls=':')\n",
    "    if len(args)==3:\n",
    "        fig_ax.legend(loc=args[2])\n",
    "\n",
    "def bodeplot_set(fig_ax,*args):\n",
    "    fig_ax[0].grid(which='both',ls=':')\n",
    "    fig_ax[0].set_ylabel('Gain[db]')\n",
    "    fig_ax[1].grid(which='both',ls=':')\n",
    "    fig_ax[1].set_xlabel('[rad/s]')\n",
    "    fig_ax[1].set_ylabel('Phase[deg]')\n",
    "\n",
    "    if len(args)>0:\n",
    "        fig_ax[1].legend(loc=args[0])\n",
    "    if len(args)>1:\n",
    "        fig_ax[0].legend(loc=args[1])\n"
   ]
  },
  {
   "cell_type": "markdown",
   "metadata": {},
   "source": [
    "手推车传递函数模型如下：\n",
    "$$\n",
    "P(s)=\\frac{1}{Ms+\\mu}\n",
    "$$\n",
    "令$K=\\frac{1}{\\mu}$，$T=\\frac{M}{\\mu}$，可表达为形式：\n",
    "$$\n",
    "P(s)=\\frac{K}{1+Ts}\n",
    "$$\n",
    "可如此表示的系统称为一阶滞后系统"
   ]
  },
  {
   "cell_type": "code",
   "execution_count": 4,
   "metadata": {},
   "outputs": [
    {
     "data": {
      "image/png": "[encoded data removed]",
      "text/plain": [
       "<Figure size 432x288 with 1 Axes>"
      ]
     },
     "metadata": {
      "needs_background": "light"
     },
     "output_type": "display_data"
    }
   ],
   "source": [
    "T=0.5\n",
    "K=1\n",
    "P=tf([0,K],[T,1])\n",
    "y,t=step(P,np.arange(0,5,0.01))\n",
    "\n",
    "fig,ax=plt.subplots()\n",
    "ax.plot(t,y)\n",
    "plot_set(ax,'t','y')"
   ]
  },
  {
   "cell_type": "code",
   "execution_count": null,
   "metadata": {},
   "outputs": [],
   "source": []
  }
 ],
 "metadata": {
  "kernelspec": {
   "display_name": "Python 3.9.13 ('ctrl')",
   "language": "python",
   "name": "python3"
  },
  "language_info": {
   "codemirror_mode": {
    "name": "ipython",
    "version": 3
   },
   "file_extension": ".py",
   "mimetype": "text/x-python",
   "name": "python",
   "nbconvert_exporter": "python",
   "pygments_lexer": "ipython3",
   "version": "3.9.13"
  },
  "orig_nbformat": 4,
  "vscode": {
   "interpreter": {
    "hash": "ec0b5b543c33bd3c7d9d5b34bbdc4c21af9d4ef0aff90fcabf2f9d83a2f21d36"
   }
  }
 },
 "nbformat": 4,
 "nbformat_minor": 2
}
